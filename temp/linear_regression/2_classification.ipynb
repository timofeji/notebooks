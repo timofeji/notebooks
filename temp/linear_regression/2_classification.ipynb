{
 "cells": [
  {
   "attachments": {},
   "cell_type": "markdown",
   "metadata": {},
   "source": [
    "\n",
    "## Probability & Classification Problems\n",
    "Now that we have some way of drawing conclusions about samples of data, and we know how to establish relationships between samples, we can use these concepts to build a more general model that will do the task of classifying two organisms for us.\n",
    "\n",
    "\n",
    "<div>\n",
    "<div>\n",
    "\n",
    "<divs tyle=\"display: flex; align-items: center;\">\n",
    " <span style=\"display: inline-flex; align-items: center; justify-content: center; border: 1px solid black; margin-left: 10px;\">\n",
    "    s = \n",
    "    <img src=\"../images/ginko.png\" style=\"width: 100px; height: 100px; object-fit:cover;\">\n",
    "    </span>\n",
    "</div>\n",
    "\n",
    "Suppose we're a scientist studying plants and we picked up a leaf-looking sample from an environment, and we want to determine if the sample is an existing species or a new one.\n",
    "We cross reference characteristics of the sample with existing human knowledge, and we come to the conclusion that the sample might be a ginko leaf; however, upon retrospection you notice that the sample is x10 larger in size then what ginko leaves are described to be(~6.35cm). We come to the conclusion that this might infact be a new variant of a ginko leaf; this is what we call a [hypothesis](https://en.wikipedia.org/wiki/Hypothesis). To prove this, and to gain mad Biology street cred, we come back to the tree to gather more evidence by way of collecting more samples. We measure the lenghts of each of the blades, and write them into a big data [table](./leaves.csv)(The set of all samples)\n",
    "\n",
    "\n",
    "<div>\n",
    " <span style=\"display: inline-flex; align-items: center; justify-content: center; border: 1px solid black; margin-left: 10px;\">\n",
    "S=\n",
    "<img src=\"../images/ginko.png\" style=\"width: 50px; height: 50px; object-fit:cover;\">\n",
    "<img src=\"../images/ginko.png\" style=\"width: 50px; height: 50px; object-fit:cover;\">\n",
    "<img src=\"../images/ginko.png\" style=\"width: 50px; height: 50px; object-fit:cover;\">\n",
    "<img src=\"../images/ginko.png\" style=\"width: 50px; height: 50px; object-fit:cover;\">\n",
    "<img src=\"../images/ginko.png\" style=\"width: 50px; height: 50px; object-fit:cover;\">\n",
    "<img src=\"../images/ginko.png\" style=\"width: 50px; height: 50px; object-fit:cover;\">\n",
    "<img src=\"../images/ginko.png\" style=\"width: 50px; height: 50px; object-fit:cover;\">\n",
    "<img src=\"../images/ginko.png\" style=\"width: 50px; height: 50px; object-fit:cover;\">\n",
    "<img src=\"../images/ginko.png\" style=\"width: 50px; height: 50px; object-fit:cover;\">\n",
    "<img src=\"../images/ginko.png\" style=\"width: 50px; height: 50px; object-fit:cover;\">\n",
    "<img src=\"../images/ginko.png\" style=\"width: 50px; height: 50px; object-fit:cover;\">\n",
    "    </span>\n",
    "</div>\n",
    "\n",
    "<br>"
   ]
  },
  {
   "cell_type": "code",
   "execution_count": null,
   "metadata": {},
   "outputs": [],
   "source": []
  }
 ],
 "metadata": {
  "language_info": {
   "name": "python"
  },
  "orig_nbformat": 4
 },
 "nbformat": 4,
 "nbformat_minor": 2
}
