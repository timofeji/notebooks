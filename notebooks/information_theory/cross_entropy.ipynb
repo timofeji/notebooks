{
 "cells": [
  {
   "cell_type": "code",
   "execution_count": null,
   "metadata": {
    "tags": [
     "hide_code"
    ]
   },
   "outputs": [],
   "source": [
    "%run ../settings.py\n",
    "POST_SETTINGS = {\n",
    "        \"image\": \"img/cross-entropy.jpg\",\n",
    "        \"title\": \"Measuring Differences in Knowledge\",\n",
    "        \"description\": \"Understanding Cross-Entropy and KL-Divergence\",\n",
    "        \"category\": \"article\",\n",
    "        \"tags\": [\"Information Theory\", \"Articles\", \"Tutorials\"]\n",
    "    }"
   ]
  },
  {
   "cell_type": "markdown",
   "metadata": {},
   "source": [
    "# Cross Entropy intuition from a single bit\n",
    "\n",
    "Suppose you made it to the final round of this seasons MasterChef,\\\n",
    "and you're serving your good friend Alice and your mortal enemy Bob an interesting challange...<br> \n",
    "\n",
    "They write down all the foods they're allergic to on a little pieces of paper and put them in a bag, along with the other audience members <br>\n",
    "We now have a bag of words containing the following sets:\n",
    "\n",
    "$A = \\{ peanuts, shrimp, potato \\} $\n",
    "\n",
    "$B = \\{ peanuts, kale, chicken \\} $\n",
    "\n",
    "$({A\\cup B})^\\complement = \\{ salmon, apple, toast \\} $\n",
    "\n",
    "The show host tells you to draw 3 random words $\\vec{z} = \\set{ z_1, z_2,z_3}$ from the bag to make tonights banquet. \\\n",
    "Since Bob is planning to resurrect Hitler using misaligned AGI, we're interested in finding out which of the 3 ingredients are more likely to kill Bob.\n",
    "\n",
    "</br>\n",
    "\n",
    "The simple way we can do this is to measure the probability $p$ that $\\vec{z}$ came from the set $B$ using a random variable $X \\sim Ber(p)$, \\\n",
    "where $P(X = x) $ is the probability that $\\vec{z}$ came from the set $B$.\n",
    "Since there are 8 unique foods in the bag, there's $8\\choose{3}$ = $\\frac{8!}{3!(8-3)!} = 56$ possible  ways of choosing $\\vec{z}$,  \\\n",
    "but only one way to choose exactly the 3 foods in $B$, making $p(x) = \\frac{1}{56}$ \n"
   ]
  },
  {
   "cell_type": "code",
   "execution_count": 14,
   "metadata": {
    "slideshow": {
     "slide_type": "skip"
    },
    "tags": [
     "hide_code",
     "hide",
     "figure"
    ]
   },
   "outputs": [
    {
     "data": {
      "text/html": [
       "        <script type=\"text/javascript\">\n",
       "        window.PlotlyConfig = {MathJaxConfig: 'local'};\n",
       "        if (window.MathJax && window.MathJax.Hub && window.MathJax.Hub.Config) {window.MathJax.Hub.Config({SVG: {font: \"STIX-Web\"}});}\n",
       "        </script>\n",
       "        <script type=\"module\">import \"https://cdn.plot.ly/plotly-3.0.1.min\"</script>\n",
       "        "
      ]
     },
     "metadata": {},
     "output_type": "display_data"
    },
    {
     "data": {
      "text/html": [
       "<div>            <script src=\"https://cdnjs.cloudflare.com/ajax/libs/mathjax/2.7.5/MathJax.js?config=TeX-AMS-MML_SVG\"></script><script type=\"text/javascript\">if (window.MathJax && window.MathJax.Hub && window.MathJax.Hub.Config) {window.MathJax.Hub.Config({SVG: {font: \"STIX-Web\"}});}</script>                <script type=\"text/javascript\">window.PlotlyConfig = {MathJaxConfig: 'local'};</script>\n",
       "        <script charset=\"utf-8\" src=\"https://cdn.plot.ly/plotly-3.0.1.min.js\"></script>                <div id=\"fc8c153e-70c0-44dd-a0c7-930d7bfd1a0e\" class=\"plotly-graph-div\" style=\"height:525px; width:100%;\"></div>            <script type=\"text/javascript\">                window.PLOTLYENV=window.PLOTLYENV || {};                                if (document.getElementById(\"fc8c153e-70c0-44dd-a0c7-930d7bfd1a0e\")) {                    Plotly.newPlot(                        \"fc8c153e-70c0-44dd-a0c7-930d7bfd1a0e\",                        [{\"mode\":\"lines\",\"name\":\"sin(x)\",\"x\":{\"dtype\":\"f8\",\"bdata\":\"AAAAAAAAAAAxb2dIzNu5PzFvZ0jM28k\\u002fZZNNNtlk0z8xb2dIzNvZP3+lQK1fKeA\\u002fZZNNNtlk4z9LgVq\\u002fUqDmPzFvZ0jM2+k\\u002fF1100UUX7T9\\u002fpUCtXynwP3Icx3Ecx\\u002fE\\u002fZZNNNtlk8z9YCtT6lQL1P0uBWr9SoPY\\u002fPvjggw8++D8xb2dIzNv5PyTm7QyJefs\\u002fF1100UUX\\u002fT8K1PqVArX+P3+lQK1fKQBA+OCDDz74AEByHMdxHMcBQOtXCtT6lQJAZZNNNtlkA0DezpCYtzMEQFgK1PqVAgVA0UUXXXTRBUBLgVq\\u002fUqAGQMS8nSExbwdAPvjggw8+CEC3MyTm7QwJQDFvZ0jM2wlAq6qqqqqqCkAk5u0MiXkLQJ4hMW9nSAxAF1100UUXDUCRmLczJOYNQArU+pUCtQ5AhA8++OCDD0B\\u002fpUCtXykQQDtDYt7OkBBA+OCDDz74EEC1fqVArV8RQHIcx3EcxxFALrrooosuEkDrVwrU+pUSQKj1KwVq\\u002fRJAZZNNNtlkE0AiMW9nSMwTQN7OkJi3MxRAm2yyySabFEBYCtT6lQIVQBWo9SsFahVA0UUXXXTRFUCO4ziO4zgWQEuBWr9SoBZACB988MEHF0DEvJ0hMW8XQIFav1Kg1hdAPvjggw8+GED7lQK1fqUYQLczJObtDBlAdNFFF110GUAxb2dIzNsZQO4MiXk7QxpAq6qqqqqqGkBnSMzbGRIbQCTm7QyJeRtA4YMPPvjgG0CeITFvZ0gcQFq\\u002fUqDWrxxAF1100UUXHUDU+pUCtX4dQJGYtzMk5h1ATTbZZJNNHkAK1PqVArUeQMdxHMdxHB9AhA8++OCDH0BArV8pUOsfQH+lQK1fKSBAXXTRRRddIEA7Q2LezpAgQBoS83aGxCBA+OCDDz74IEDXrxSo9SshQLV+pUCtXyFAk0022WSTIUByHMdxHMchQFDrVwrU+iFALrrooosuIkANiXk7Q2IiQOtXCtT6lSJAyiabbLLJIkCo9SsFav0iQIbEvJ0hMSNAZZNNNtlkI0BDYt7OkJgjQCIxb2dIzCNAAAAAAAAAJEA=\"},\"y\":{\"dtype\":\"f8\",\"bdata\":\"AAAAAAAAAABWWTD1i9C5P1FTX5rcrsk\\u002fgsOxNjYZ0z9VYwJ3JinZPxcA895s994\\u002fjoZ7TnE64j\\u002fqrfXjmcnkP2ssuWGCIuc\\u002fIswnjgo\\u002f6T+RI+TArxnrP1BTS0Sbrew\\u002f3oUw9q727T8Xi+UGkPHuP\\u002fkGhbqvm+8\\u002fOPqkFVLz7z8TWwZkkvfvP5TacY1lqO8\\u002fkSusMpoG7z8wOzaS1hPuPz2qWDqU0uw\\u002fjV22kxlG6z8pMUFVcXLpP4gS3\\u002fdfXOc\\u002f1MdGRVcJ5T\\u002fm1IwiaH\\u002fiP8q16nZlit8\\u002f8e22b6rD2T9j8JxQsrnTPwFWfWl\\u002f+Mo\\u002f+7miP25uvD8ew57TVQ2FP7c2U+b2Mbe\\u002fNJcb8IdkyL+cMtDaNXjSv4gGHUH0jdi\\u002fBM5I1Z1j3r8dASM\\u002f\\u002fPThv5J0Xo5MieS\\u002ffMX9lQTo5r9AD0Xy9Arpv5gfWUKK7Oq\\u002fhEBctduH7L9UjGrat9jtv9nTBZKv2+6\\u002fGw5iBB+O778QwS6FNO7vv7NU4lL1+u+\\u002fvLAjJUC0778fSaaDzRrvv6PqleQtMO6\\u002fehV7l8X27L+nYD+HxnHrv2I\\u002fnOMnpem\\u002fD922x5uV57\\u002fCVOv4gkjlv1aewt3ew+K\\u002fZCe00UEO4L8DKjT9e13av93iNNGlWdS\\u002fwgS4cmdBzL8fFrKmiwu\\u002fv2He8+4MDZW\\u002fu4zZNsGStD+7ZD9aihnHP7P36Je11tE\\u002fW\\u002fDDABjy1z9jyIBZ\\u002fM7dP8e6gdUKr+E\\u002fqWzMAXFI5D\\u002f\\u002f7Lop6KzmP7yvSOox1ug\\u002fAl+5UKq+6j+T7POSVmHsP14AZw7yue0\\u002fUWGMa\\u002fnE7j\\u002f0lfnIs3\\u002fvP+x2ENY56O8\\u002fb1zFynr97z+a4IMvP7\\u002fvP+dX8G0pLu8\\u002f1DgMKbRL7j8lnQ9hLhrtP1CyCm21nOs\\u002fN08I2izX6T+2POhENM7nPxy7bUkbh+U\\u002fz6j\\u002fpdMH4z+wXUa44VbgP6UpR\\u002faW9to\\u002fVbjOZAz51D8WLl\\u002fQi4nNP2bQXAjp08A\\u002f\\u002f1m7LN2Snz\\u002fo7+kO\\u002ffKxv37G6czszcW\\u002fVIdizLk00b98w03tlVXXvzzw4HCMOd2\\u002fUk\\u002fz9Z5o4b8=\"},\"type\":\"scatter\"}],                        {\"template\":{\"data\":{\"histogram2dcontour\":[{\"type\":\"histogram2dcontour\",\"colorbar\":{\"outlinewidth\":0,\"ticks\":\"\"},\"colorscale\":[[0.0,\"#0d0887\"],[0.1111111111111111,\"#46039f\"],[0.2222222222222222,\"#7201a8\"],[0.3333333333333333,\"#9c179e\"],[0.4444444444444444,\"#bd3786\"],[0.5555555555555556,\"#d8576b\"],[0.6666666666666666,\"#ed7953\"],[0.7777777777777778,\"#fb9f3a\"],[0.8888888888888888,\"#fdca26\"],[1.0,\"#f0f921\"]]}],\"choropleth\":[{\"type\":\"choropleth\",\"colorbar\":{\"outlinewidth\":0,\"ticks\":\"\"}}],\"histogram2d\":[{\"type\":\"histogram2d\",\"colorbar\":{\"outlinewidth\":0,\"ticks\":\"\"},\"colorscale\":[[0.0,\"#0d0887\"],[0.1111111111111111,\"#46039f\"],[0.2222222222222222,\"#7201a8\"],[0.3333333333333333,\"#9c179e\"],[0.4444444444444444,\"#bd3786\"],[0.5555555555555556,\"#d8576b\"],[0.6666666666666666,\"#ed7953\"],[0.7777777777777778,\"#fb9f3a\"],[0.8888888888888888,\"#fdca26\"],[1.0,\"#f0f921\"]]}],\"heatmap\":[{\"type\":\"heatmap\",\"colorbar\":{\"outlinewidth\":0,\"ticks\":\"\"},\"colorscale\":[[0.0,\"#0d0887\"],[0.1111111111111111,\"#46039f\"],[0.2222222222222222,\"#7201a8\"],[0.3333333333333333,\"#9c179e\"],[0.4444444444444444,\"#bd3786\"],[0.5555555555555556,\"#d8576b\"],[0.6666666666666666,\"#ed7953\"],[0.7777777777777778,\"#fb9f3a\"],[0.8888888888888888,\"#fdca26\"],[1.0,\"#f0f921\"]]}],\"contourcarpet\":[{\"type\":\"contourcarpet\",\"colorbar\":{\"outlinewidth\":0,\"ticks\":\"\"}}],\"contour\":[{\"type\":\"contour\",\"colorbar\":{\"outlinewidth\":0,\"ticks\":\"\"},\"colorscale\":[[0.0,\"#0d0887\"],[0.1111111111111111,\"#46039f\"],[0.2222222222222222,\"#7201a8\"],[0.3333333333333333,\"#9c179e\"],[0.4444444444444444,\"#bd3786\"],[0.5555555555555556,\"#d8576b\"],[0.6666666666666666,\"#ed7953\"],[0.7777777777777778,\"#fb9f3a\"],[0.8888888888888888,\"#fdca26\"],[1.0,\"#f0f921\"]]}],\"surface\":[{\"type\":\"surface\",\"colorbar\":{\"outlinewidth\":0,\"ticks\":\"\"},\"colorscale\":[[0.0,\"#0d0887\"],[0.1111111111111111,\"#46039f\"],[0.2222222222222222,\"#7201a8\"],[0.3333333333333333,\"#9c179e\"],[0.4444444444444444,\"#bd3786\"],[0.5555555555555556,\"#d8576b\"],[0.6666666666666666,\"#ed7953\"],[0.7777777777777778,\"#fb9f3a\"],[0.8888888888888888,\"#fdca26\"],[1.0,\"#f0f921\"]]}],\"mesh3d\":[{\"type\":\"mesh3d\",\"colorbar\":{\"outlinewidth\":0,\"ticks\":\"\"}}],\"scatter\":[{\"fillpattern\":{\"fillmode\":\"overlay\",\"size\":10,\"solidity\":0.2},\"type\":\"scatter\"}],\"parcoords\":[{\"type\":\"parcoords\",\"line\":{\"colorbar\":{\"outlinewidth\":0,\"ticks\":\"\"}}}],\"scatterpolargl\":[{\"type\":\"scatterpolargl\",\"marker\":{\"colorbar\":{\"outlinewidth\":0,\"ticks\":\"\"}}}],\"bar\":[{\"error_x\":{\"color\":\"#2a3f5f\"},\"error_y\":{\"color\":\"#2a3f5f\"},\"marker\":{\"line\":{\"color\":\"#E5ECF6\",\"width\":0.5},\"pattern\":{\"fillmode\":\"overlay\",\"size\":10,\"solidity\":0.2}},\"type\":\"bar\"}],\"scattergeo\":[{\"type\":\"scattergeo\",\"marker\":{\"colorbar\":{\"outlinewidth\":0,\"ticks\":\"\"}}}],\"scatterpolar\":[{\"type\":\"scatterpolar\",\"marker\":{\"colorbar\":{\"outlinewidth\":0,\"ticks\":\"\"}}}],\"histogram\":[{\"marker\":{\"pattern\":{\"fillmode\":\"overlay\",\"size\":10,\"solidity\":0.2}},\"type\":\"histogram\"}],\"scattergl\":[{\"type\":\"scattergl\",\"marker\":{\"colorbar\":{\"outlinewidth\":0,\"ticks\":\"\"}}}],\"scatter3d\":[{\"type\":\"scatter3d\",\"line\":{\"colorbar\":{\"outlinewidth\":0,\"ticks\":\"\"}},\"marker\":{\"colorbar\":{\"outlinewidth\":0,\"ticks\":\"\"}}}],\"scattermap\":[{\"type\":\"scattermap\",\"marker\":{\"colorbar\":{\"outlinewidth\":0,\"ticks\":\"\"}}}],\"scattermapbox\":[{\"type\":\"scattermapbox\",\"marker\":{\"colorbar\":{\"outlinewidth\":0,\"ticks\":\"\"}}}],\"scatterternary\":[{\"type\":\"scatterternary\",\"marker\":{\"colorbar\":{\"outlinewidth\":0,\"ticks\":\"\"}}}],\"scattercarpet\":[{\"type\":\"scattercarpet\",\"marker\":{\"colorbar\":{\"outlinewidth\":0,\"ticks\":\"\"}}}],\"carpet\":[{\"aaxis\":{\"endlinecolor\":\"#2a3f5f\",\"gridcolor\":\"white\",\"linecolor\":\"white\",\"minorgridcolor\":\"white\",\"startlinecolor\":\"#2a3f5f\"},\"baxis\":{\"endlinecolor\":\"#2a3f5f\",\"gridcolor\":\"white\",\"linecolor\":\"white\",\"minorgridcolor\":\"white\",\"startlinecolor\":\"#2a3f5f\"},\"type\":\"carpet\"}],\"table\":[{\"cells\":{\"fill\":{\"color\":\"#EBF0F8\"},\"line\":{\"color\":\"white\"}},\"header\":{\"fill\":{\"color\":\"#C8D4E3\"},\"line\":{\"color\":\"white\"}},\"type\":\"table\"}],\"barpolar\":[{\"marker\":{\"line\":{\"color\":\"#E5ECF6\",\"width\":0.5},\"pattern\":{\"fillmode\":\"overlay\",\"size\":10,\"solidity\":0.2}},\"type\":\"barpolar\"}],\"pie\":[{\"automargin\":true,\"type\":\"pie\"}]},\"layout\":{\"autotypenumbers\":\"strict\",\"colorway\":[\"#636efa\",\"#EF553B\",\"#00cc96\",\"#ab63fa\",\"#FFA15A\",\"#19d3f3\",\"#FF6692\",\"#B6E880\",\"#FF97FF\",\"#FECB52\"],\"font\":{\"color\":\"#2a3f5f\"},\"hovermode\":\"closest\",\"hoverlabel\":{\"align\":\"left\"},\"paper_bgcolor\":\"white\",\"plot_bgcolor\":\"#E5ECF6\",\"polar\":{\"bgcolor\":\"#E5ECF6\",\"angularaxis\":{\"gridcolor\":\"white\",\"linecolor\":\"white\",\"ticks\":\"\"},\"radialaxis\":{\"gridcolor\":\"white\",\"linecolor\":\"white\",\"ticks\":\"\"}},\"ternary\":{\"bgcolor\":\"#E5ECF6\",\"aaxis\":{\"gridcolor\":\"white\",\"linecolor\":\"white\",\"ticks\":\"\"},\"baxis\":{\"gridcolor\":\"white\",\"linecolor\":\"white\",\"ticks\":\"\"},\"caxis\":{\"gridcolor\":\"white\",\"linecolor\":\"white\",\"ticks\":\"\"}},\"coloraxis\":{\"colorbar\":{\"outlinewidth\":0,\"ticks\":\"\"}},\"colorscale\":{\"sequential\":[[0.0,\"#0d0887\"],[0.1111111111111111,\"#46039f\"],[0.2222222222222222,\"#7201a8\"],[0.3333333333333333,\"#9c179e\"],[0.4444444444444444,\"#bd3786\"],[0.5555555555555556,\"#d8576b\"],[0.6666666666666666,\"#ed7953\"],[0.7777777777777778,\"#fb9f3a\"],[0.8888888888888888,\"#fdca26\"],[1.0,\"#f0f921\"]],\"sequentialminus\":[[0.0,\"#0d0887\"],[0.1111111111111111,\"#46039f\"],[0.2222222222222222,\"#7201a8\"],[0.3333333333333333,\"#9c179e\"],[0.4444444444444444,\"#bd3786\"],[0.5555555555555556,\"#d8576b\"],[0.6666666666666666,\"#ed7953\"],[0.7777777777777778,\"#fb9f3a\"],[0.8888888888888888,\"#fdca26\"],[1.0,\"#f0f921\"]],\"diverging\":[[0,\"#8e0152\"],[0.1,\"#c51b7d\"],[0.2,\"#de77ae\"],[0.3,\"#f1b6da\"],[0.4,\"#fde0ef\"],[0.5,\"#f7f7f7\"],[0.6,\"#e6f5d0\"],[0.7,\"#b8e186\"],[0.8,\"#7fbc41\"],[0.9,\"#4d9221\"],[1,\"#276419\"]]},\"xaxis\":{\"gridcolor\":\"white\",\"linecolor\":\"white\",\"ticks\":\"\",\"title\":{\"standoff\":15},\"zerolinecolor\":\"white\",\"automargin\":true,\"zerolinewidth\":2},\"yaxis\":{\"gridcolor\":\"white\",\"linecolor\":\"white\",\"ticks\":\"\",\"title\":{\"standoff\":15},\"zerolinecolor\":\"white\",\"automargin\":true,\"zerolinewidth\":2},\"scene\":{\"xaxis\":{\"backgroundcolor\":\"#E5ECF6\",\"gridcolor\":\"white\",\"linecolor\":\"white\",\"showbackground\":true,\"ticks\":\"\",\"zerolinecolor\":\"white\",\"gridwidth\":2},\"yaxis\":{\"backgroundcolor\":\"#E5ECF6\",\"gridcolor\":\"white\",\"linecolor\":\"white\",\"showbackground\":true,\"ticks\":\"\",\"zerolinecolor\":\"white\",\"gridwidth\":2},\"zaxis\":{\"backgroundcolor\":\"#E5ECF6\",\"gridcolor\":\"white\",\"linecolor\":\"white\",\"showbackground\":true,\"ticks\":\"\",\"zerolinecolor\":\"white\",\"gridwidth\":2}},\"shapedefaults\":{\"line\":{\"color\":\"#2a3f5f\"}},\"annotationdefaults\":{\"arrowcolor\":\"#2a3f5f\",\"arrowhead\":0,\"arrowwidth\":1},\"geo\":{\"bgcolor\":\"white\",\"landcolor\":\"#E5ECF6\",\"subunitcolor\":\"white\",\"showland\":true,\"showlakes\":true,\"lakecolor\":\"white\"},\"title\":{\"x\":0.05},\"mapbox\":{\"style\":\"light\"}}},\"title\":{\"text\":\"Interactive Plot that Works in HTML Export\"},\"xaxis\":{\"title\":{\"text\":\"X\"}},\"yaxis\":{\"title\":{\"text\":\"sin(X)\"}},\"hovermode\":\"closest\"},                        {\"displayModeBar\": false, \"responsive\": false}                    ).then(function(){\n",
       "                            \n",
       "var gd = document.getElementById('fc8c153e-70c0-44dd-a0c7-930d7bfd1a0e');\n",
       "var x = new MutationObserver(function (mutations, observer) {{\n",
       "        var display = window.getComputedStyle(gd).display;\n",
       "        if (!display || display === 'none') {{\n",
       "            console.log([gd, 'removed!']);\n",
       "            Plotly.purge(gd);\n",
       "            observer.disconnect();\n",
       "        }}\n",
       "}});\n",
       "\n",
       "// Listen for the removal of the full notebook cells\n",
       "var notebookContainer = gd.closest('#notebook-container');\n",
       "if (notebookContainer) {{\n",
       "    x.observe(notebookContainer, {childList: true});\n",
       "}}\n",
       "\n",
       "// Listen for the clearing of the current output cell\n",
       "var outputEl = gd.closest('.output');\n",
       "if (outputEl) {{\n",
       "    x.observe(outputEl, {childList: true});\n",
       "}}\n",
       "\n",
       "                        })                };            </script>        </div>"
      ]
     },
     "metadata": {},
     "output_type": "display_data"
    }
   ],
   "source": [
    "# import matplotlib.pyplot as plt\n",
    "# from matplotlib_venn import venn2\n",
    "\n",
    "# A = {0, 1, 2}\n",
    "# B = {0, 2, 4}\n",
    "\n",
    "# intersection = B & A      # {1, 2}\n",
    "# only_x = B - A            # {3}\n",
    "# only_y = A - B            # {0}\n",
    "\n",
    "# labels = [\"peanuts\", \"shrimp\", \"kale\", \"potato\", \"chicken\", \"salmon\", \"apple\", \"toast\"]\n",
    "\n",
    "\n",
    "# elements = sorted(B | A)  # sorted for consistent mapping; gives [0, 1, 2, 3]\n",
    "# label_mapping = {num: label for num, label in zip(elements, labels)}\n",
    "\n",
    "# fig, ax = plt.subplots(figsize=(3.5, 3.5))\n",
    "# fig.patch.set_facecolor('none')  # Set the figure background to transparent\n",
    "\n",
    "# venn = venn2([B, A], ('B', 'A'), ax=ax)\n",
    "# if venn.get_label_by_id('10'):\n",
    "#     venn.get_label_by_id('10').set_text(\"\\n\".join(label_mapping[n] for n in only_x))\n",
    "# if venn.get_label_by_id('01'):\n",
    "#     venn.get_label_by_id('01').set_text(\"\\n\".join(label_mapping[n] for n in only_y))\n",
    "# if venn.get_label_by_id('11'):\n",
    "#     venn.get_label_by_id('11').set_text(\"\\n\".join(label_mapping[n] for n in intersection))\n",
    "# venn.get_patch_by_id('10').set_color('#99d8c9')   \n",
    "# venn.get_patch_by_id('01').set_color('#fc9272')   \n",
    "# venn.get_patch_by_id('11').set_color('#fdae6b')   \n",
    "\n",
    "# for patch in ['10', '01', '11']:\n",
    "#     if venn.get_patch_by_id(patch) is not None:\n",
    "#         venn.get_patch_by_id(patch).set_edgecolor('black')\n",
    "#         venn.get_patch_by_id(patch).set_linewidth(1.5)\n",
    "\n",
    "import plotly.graph_objects as go\n",
    "import plotly.io as pio\n",
    "import numpy as np\n",
    "import pandas as pd\n",
    "from IPython.display import HTML\n",
    "\n",
    "# Use renderer suitable for HTML output\n",
    "pio.renderers.default = \"notebook_connected\"\n",
    "\n",
    "# Sample data\n",
    "x = np.linspace(0, 10, 100)\n",
    "y = np.sin(x)\n",
    "df = pd.DataFrame({'x': x, 'y': y})\n",
    "\n",
    "# Create plotly figure\n",
    "fig = go.Figure()\n",
    "fig.add_trace(go.Scatter(x=df['x'], y=df['y'], mode='lines', name='sin(x)'))\n",
    "fig.update_layout(\n",
    "    title='Interactive Plot that Works in HTML Export',\n",
    "    xaxis_title='X',\n",
    "    yaxis_title='sin(X)',\n",
    "    hovermode='closest'\n",
    ")\n",
    "\n",
    "# This is the important part for nbconvert compatibility\n",
    "# Include full plotly.js in the notebook itself\n",
    "config = {\n",
    "    'displayModeBar': False,\n",
    "    'responsive': False\n",
    "}\n",
    "\n",
    "# Add figure to notebook in a way that includes all dependencies\n",
    "fig.show(config=config, include_plotlyjs='cdn')"
   ]
  },
  {
   "cell_type": "markdown",
   "metadata": {},
   "source": [
    "However, there's significant overlap in the foods both Bob and Alice are allergic to, and Alice is currently training a machine learning model that cures cancer, \\\n",
    "so we need a better way of analyzing which of the ingridients will avert certain doom.\n",
    "\n",
    "\n",
    "Let's add another random variable $Y \\sim Ber(q)$, where $Q(Y = y) $ is a measure of whether $\\vec{z}$ is in $A$ \\\n",
    "similarly, $q(y)$ = $\\frac{1}{56}$\n"
   ]
  },
  {
   "cell_type": "markdown",
   "metadata": {},
   "source": [
    "# Cross Entropy\n",
    "cross-entropy tells us how surprised we would be if z came from X, if we assumed it came from Y, <br>\n",
    "in other words: if we need one bit of information to encode z being in Y, then whats the probability that it came from X? \n",
    "\n",
    ">$H(p,q) = {p(z) \\log q(z)}$ \n",
    "\n"
   ]
  }
 ],
 "metadata": {
  "kernelspec": {
   "display_name": "Python 3",
   "language": "python",
   "name": "python3"
  },
  "language_info": {
   "codemirror_mode": {
    "name": "ipython",
    "version": 3
   },
   "file_extension": ".py",
   "mimetype": "text/x-python",
   "name": "python",
   "nbconvert_exporter": "python",
   "pygments_lexer": "ipython3",
   "version": "3.11.9"
  }
 },
 "nbformat": 4,
 "nbformat_minor": 2
}
