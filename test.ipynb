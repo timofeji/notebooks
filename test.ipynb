{
 "cells": [
  {
   "cell_type": "code",
   "execution_count": 10,
   "metadata": {},
   "outputs": [
    {
     "ename": "ImportError",
     "evalue": "Could not import backend for traitsui.  Make sure you\n        have a suitable UI toolkit like PyQt/PySide or wxPython\n        installed.",
     "output_type": "error",
     "traceback": [
      "\u001b[1;31m---------------------------------------------------------------------------\u001b[0m",
      "\u001b[1;31mImportError\u001b[0m                               Traceback (most recent call last)",
      "Cell \u001b[1;32mIn[10], line 32\u001b[0m\n\u001b[0;32m     29\u001b[0m     mlab\u001b[39m.\u001b[39mtitle(\u001b[39mf\u001b[39m\u001b[39m'\u001b[39m\u001b[39mProbability Cloud for Hydrogen Atom (n=\u001b[39m\u001b[39m{\u001b[39;00mn\u001b[39m}\u001b[39;00m\u001b[39m, l=\u001b[39m\u001b[39m{\u001b[39;00ml\u001b[39m}\u001b[39;00m\u001b[39m, m=\u001b[39m\u001b[39m{\u001b[39;00mm\u001b[39m}\u001b[39;00m\u001b[39m)\u001b[39m\u001b[39m'\u001b[39m, size\u001b[39m=\u001b[39m\u001b[39m0.4\u001b[39m)\n\u001b[0;32m     30\u001b[0m     mlab\u001b[39m.\u001b[39mshow()\n\u001b[1;32m---> 32\u001b[0m plot_probability_cloud(\u001b[39m3\u001b[39;49m, \u001b[39m2\u001b[39;49m, \u001b[39m0\u001b[39;49m)  \u001b[39m# Example: Probability cloud for the 3d orbital (n=3, l=2, m=0)\u001b[39;00m\n",
      "Cell \u001b[1;32mIn[10], line 26\u001b[0m, in \u001b[0;36mplot_probability_cloud\u001b[1;34m(n, l, m)\u001b[0m\n\u001b[0;32m     23\u001b[0m psi \u001b[39m=\u001b[39m hydrogen_wave_func(n, l, m, r, theta, phi)\n\u001b[0;32m     24\u001b[0m probability_density \u001b[39m=\u001b[39m np\u001b[39m.\u001b[39mabs(psi)\u001b[39m*\u001b[39m\u001b[39m*\u001b[39m\u001b[39m2\u001b[39m\n\u001b[1;32m---> 26\u001b[0m mlab\u001b[39m.\u001b[39;49mfigure(bgcolor\u001b[39m=\u001b[39;49m(\u001b[39m1\u001b[39;49m, \u001b[39m1\u001b[39;49m, \u001b[39m1\u001b[39;49m))\n\u001b[0;32m     27\u001b[0m mlab\u001b[39m.\u001b[39mcontour3d(X, Y, Z, probability_density, contours\u001b[39m=\u001b[39m\u001b[39m40\u001b[39m, opacity\u001b[39m=\u001b[39m\u001b[39m0.2\u001b[39m, colormap\u001b[39m=\u001b[39m\u001b[39m'\u001b[39m\u001b[39mviridis\u001b[39m\u001b[39m'\u001b[39m)\n\u001b[0;32m     28\u001b[0m mlab\u001b[39m.\u001b[39maxes(color\u001b[39m=\u001b[39m(\u001b[39m0\u001b[39m, \u001b[39m0\u001b[39m, \u001b[39m0\u001b[39m))\n",
      "File \u001b[1;32mc:\\Python38\\lib\\site-packages\\mayavi\\tools\\figure.py:64\u001b[0m, in \u001b[0;36mfigure\u001b[1;34m(figure, bgcolor, fgcolor, engine, size)\u001b[0m\n\u001b[0;32m     62\u001b[0m \u001b[39melse\u001b[39;00m:\n\u001b[0;32m     63\u001b[0m     \u001b[39mif\u001b[39;00m engine \u001b[39mis\u001b[39;00m \u001b[39mNone\u001b[39;00m:\n\u001b[1;32m---> 64\u001b[0m         engine \u001b[39m=\u001b[39m get_engine()\n\u001b[0;32m     65\u001b[0m     \u001b[39mif\u001b[39;00m figure \u001b[39mis\u001b[39;00m \u001b[39mNone\u001b[39;00m:\n\u001b[0;32m     66\u001b[0m         name \u001b[39m=\u001b[39m \u001b[39mmax\u001b[39m(__scene_number_list) \u001b[39m+\u001b[39m \u001b[39m1\u001b[39m\n",
      "File \u001b[1;32mc:\\Python38\\lib\\site-packages\\mayavi\\tools\\engine_manager.py:94\u001b[0m, in \u001b[0;36mEngineManager.get_engine\u001b[1;34m(self)\u001b[0m\n\u001b[0;32m     91\u001b[0m     suitable \u001b[39m=\u001b[39m [e \u001b[39mfor\u001b[39;00m e \u001b[39min\u001b[39;00m engines\n\u001b[0;32m     92\u001b[0m                 \u001b[39mif\u001b[39;00m e\u001b[39m.\u001b[39m\u001b[39m__class__\u001b[39m\u001b[39m.\u001b[39m\u001b[39m__name__\u001b[39m \u001b[39m==\u001b[39m \u001b[39m'\u001b[39m\u001b[39mEngine\u001b[39m\u001b[39m'\u001b[39m]\n\u001b[0;32m     93\u001b[0m \u001b[39mif\u001b[39;00m \u001b[39mlen\u001b[39m(suitable) \u001b[39m==\u001b[39m \u001b[39m0\u001b[39m:\n\u001b[1;32m---> 94\u001b[0m     \u001b[39mreturn\u001b[39;00m \u001b[39mself\u001b[39;49m\u001b[39m.\u001b[39;49mnew_engine()\n\u001b[0;32m     95\u001b[0m \u001b[39melse\u001b[39;00m:\n\u001b[0;32m     96\u001b[0m     \u001b[39m# Return the most engine add to the list most recently.\u001b[39;00m\n\u001b[0;32m     97\u001b[0m     \u001b[39mself\u001b[39m\u001b[39m.\u001b[39mcurrent_engine \u001b[39m=\u001b[39m suitable[\u001b[39m-\u001b[39m\u001b[39m1\u001b[39m]\n",
      "File \u001b[1;32mc:\\Python38\\lib\\site-packages\\mayavi\\tools\\engine_manager.py:139\u001b[0m, in \u001b[0;36mEngineManager.new_engine\u001b[1;34m(self)\u001b[0m\n\u001b[0;32m    135\u001b[0m \u001b[39mdef\u001b[39;00m \u001b[39mnew_engine\u001b[39m(\u001b[39mself\u001b[39m):\n\u001b[0;32m    136\u001b[0m     \u001b[39m\"\"\" Creates a new engine, envisage or not depending on the\u001b[39;00m\n\u001b[0;32m    137\u001b[0m \u001b[39m        options.\u001b[39;00m\n\u001b[0;32m    138\u001b[0m \u001b[39m    \"\"\"\u001b[39;00m\n\u001b[1;32m--> 139\u001b[0m     check_backend()\n\u001b[0;32m    140\u001b[0m     \u001b[39mif\u001b[39;00m options\u001b[39m.\u001b[39mbackend \u001b[39m==\u001b[39m \u001b[39m'\u001b[39m\u001b[39menvisage\u001b[39m\u001b[39m'\u001b[39m:\n\u001b[0;32m    141\u001b[0m         \u001b[39mfrom\u001b[39;00m \u001b[39mmayavi\u001b[39;00m\u001b[39m.\u001b[39;00m\u001b[39mplugins\u001b[39;00m\u001b[39m.\u001b[39;00m\u001b[39mapp\u001b[39;00m \u001b[39mimport\u001b[39;00m Mayavi\n",
      "File \u001b[1;32mc:\\Python38\\lib\\site-packages\\mayavi\\tools\\engine_manager.py:42\u001b[0m, in \u001b[0;36mcheck_backend\u001b[1;34m()\u001b[0m\n\u001b[0;32m     37\u001b[0m \u001b[39mif\u001b[39;00m (options\u001b[39m.\u001b[39mbackend \u001b[39m!=\u001b[39m \u001b[39m'\u001b[39m\u001b[39mtest\u001b[39m\u001b[39m'\u001b[39m \u001b[39mand\u001b[39;00m \u001b[39mnot\u001b[39;00m options\u001b[39m.\u001b[39moffscreen) \u001b[39mand\u001b[39;00m \\\n\u001b[0;32m     38\u001b[0m    (ETSConfig\u001b[39m.\u001b[39mtoolkit \u001b[39min\u001b[39;00m (\u001b[39m'\u001b[39m\u001b[39mnull\u001b[39m\u001b[39m'\u001b[39m, \u001b[39m'\u001b[39m\u001b[39m'\u001b[39m) \u001b[39mand\u001b[39;00m env_toolkit \u001b[39m!=\u001b[39m \u001b[39m'\u001b[39m\u001b[39mnull\u001b[39m\u001b[39m'\u001b[39m):\n\u001b[0;32m     39\u001b[0m     msg \u001b[39m=\u001b[39m \u001b[39m'''\u001b[39m\u001b[39mCould not import backend for traitsui.  Make sure you\u001b[39m\n\u001b[0;32m     40\u001b[0m \u001b[39m    have a suitable UI toolkit like PyQt/PySide or wxPython\u001b[39m\n\u001b[0;32m     41\u001b[0m \u001b[39m    installed.\u001b[39m\u001b[39m'''\u001b[39m\n\u001b[1;32m---> 42\u001b[0m     \u001b[39mraise\u001b[39;00m \u001b[39mImportError\u001b[39;00m(msg)\n",
      "\u001b[1;31mImportError\u001b[0m: Could not import backend for traitsui.  Make sure you\n        have a suitable UI toolkit like PyQt/PySide or wxPython\n        installed."
     ]
    }
   ],
   "source": [
    "import numpy as np\n",
    "from scipy.special import sph_harm, genlaguerre, factorial\n",
    "from scipy.constants import pi\n",
    "from mayavi import mlab\n",
    "\n",
    "def hydrogen_wave_func(n, l, m, r, theta, phi):\n",
    "    rho = 2 * r / n\n",
    "    s_harm = sph_harm(m, l, phi, theta)\n",
    "    l_poly = genlaguerre(n - l - 1, 2 * l + 1)(rho)\n",
    "    prefactor = np.sqrt((2 / n)**3 * factorial(n - l - 1) / (2 * n * factorial(n + l)))\n",
    "    return prefactor * np.exp(-rho / 2) * rho**l * l_poly * s_harm\n",
    "\n",
    "def plot_probability_cloud(n, l, m):\n",
    "    x = np.linspace(-20, 20, 200)\n",
    "    y = np.linspace(-20, 20, 200)\n",
    "    z = np.linspace(-20, 20, 200)\n",
    "    X, Y, Z = np.meshgrid(x, y, z)\n",
    "\n",
    "    r = np.sqrt(X**2 + Y**2 + Z**2)\n",
    "    theta = np.arccos(Z / r)\n",
    "    phi = np.arctan2(Y, X)\n",
    "\n",
    "    psi = hydrogen_wave_func(n, l, m, r, theta, phi)\n",
    "    probability_density = np.abs(psi)**2\n",
    "\n",
    "    mlab.figure(bgcolor=(1, 1, 1))\n",
    "    mlab.contour3d(X, Y, Z, probability_density, contours=40, opacity=0.2, colormap='viridis')\n",
    "    mlab.axes(color=(0, 0, 0))\n",
    "    mlab.title(f'Probability Cloud for Hydrogen Atom (n={n}, l={l}, m={m})', size=0.4)\n",
    "    mlab.show()\n",
    "\n",
    "plot_probability_cloud(3, 2, 0)  # Example: Probability cloud for the 3d orbital (n=3, l=2, m=0)\n"
   ]
  }
 ],
 "metadata": {
  "kernelspec": {
   "display_name": "Python 3",
   "language": "python",
   "name": "python3"
  },
  "language_info": {
   "codemirror_mode": {
    "name": "ipython",
    "version": 3
   },
   "file_extension": ".py",
   "mimetype": "text/x-python",
   "name": "python",
   "nbconvert_exporter": "python",
   "pygments_lexer": "ipython3",
   "version": "3.8.5"
  },
  "orig_nbformat": 4
 },
 "nbformat": 4,
 "nbformat_minor": 2
}
