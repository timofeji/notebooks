{
 "cells": [
  {
   "attachments": {},
   "cell_type": "markdown",
   "metadata": {},
   "source": [
    "# My understanding of Neural Nets\n",
    "<div style=\"width: 100%; height: 200px; overflow: hidden;\">\n",
    "    <img src=\"intro.png\" style=\"width: 100%; height: auto;\">\n",
    "</div>\n",
    "\n",
    "## Brain\n"
   ]
  },
  {
   "cell_type": "code",
   "execution_count": null,
   "metadata": {
    "vscode": {
     "languageId": "plaintext"
    }
   },
   "outputs": [],
   "source": []
  }
 ],
 "metadata": {
  "language_info": {
   "name": "python"
  },
  "orig_nbformat": 4
 },
 "nbformat": 4,
 "nbformat_minor": 2
}
